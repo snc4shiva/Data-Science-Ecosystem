{
 "cells": [
  {
   "cell_type": "markdown",
   "id": "551d4478-d089-406a-9134-cd860c47f701",
   "metadata": {},
   "source": [
    "# Data Science Tools and Ecosystem"
   ]
  },
  {
   "cell_type": "markdown",
   "id": "becb8918-bbde-484b-b50e-9d0b88a65ec1",
   "metadata": {},
   "source": [
    "In this notebook, Data Science Tools and Ecosystem are summarized."
   ]
  },
  {
   "cell_type": "markdown",
   "id": "070ed882-8758-42ec-b1eb-21b672af5b89",
   "metadata": {},
   "source": [
    "**Objectives:**\n",
    "* List popular languages for Data Science.\n",
    "* List commonly used libraries by Data Scientists.\n",
    "* List tools used for Data Science.\n",
    "* Examples of evaluating arithmetic expressions in Python."
   ]
  },
  {
   "cell_type": "markdown",
   "id": "9e3dd79a-11f3-4bd5-9ea6-d963b5df2c61",
   "metadata": {},
   "source": [
    "Some of the popular languages that Data Scientists use are:\n",
    "1. Python\n",
    "2. R\n",
    "3. SQL\n",
    "4. Scala\n",
    "5. Java\n",
    "6. C++\n",
    "7. Julia\n",
    "8. JavaScript\n",
    "9. Php\n",
    "10. Go\n",
    "11. VisualBasic\n",
    "12. Ruby\n"
   ]
  },
  {
   "cell_type": "markdown",
   "id": "79789382-6140-4048-95d0-0f7c1dfb0331",
   "metadata": {},
   "source": [
    "Some of the commonly used libraries by Data Scientists include:\n",
    "* Pandas\n",
    "* Numpy\n",
    "* Maptplotlib\n",
    "* Seaborn\n",
    "* Sci-kit learn\n",
    "* Keras\n",
    "* Tensorflow\n",
    "* Pytorch"
   ]
  },
  {
   "cell_type": "markdown",
   "id": "88559db1-3eae-470d-a0d3-5c9f43cffdc5",
   "metadata": {},
   "source": [
    "| Data Science Tools |\n",
    "| ------------------ |\n",
    "| Apache Spark |\n",
    "| TensorFlow |\n",
    "| Apache Hadoop |\n"
   ]
  },
  {
   "cell_type": "markdown",
   "id": "465f40b7-8a88-4acf-8af9-c18a50ce7e16",
   "metadata": {},
   "source": [
    "### Below are a few examples of evaluating arithmetic expressions in Python."
   ]
  },
  {
   "cell_type": "code",
   "execution_count": 2,
   "id": "60fde5a9-3787-49a9-9f3e-907a8a2f8074",
   "metadata": {},
   "outputs": [
    {
     "data": {
      "text/plain": [
       "17"
      ]
     },
     "execution_count": 2,
     "metadata": {},
     "output_type": "execute_result"
    }
   ],
   "source": [
    "# This a simple arithmetic expression to mutiply then add integers\n",
    "(3*4)+5"
   ]
  },
  {
   "cell_type": "code",
   "execution_count": 13,
   "id": "e68f1664-da59-4e1f-8e02-b304ff050265",
   "metadata": {},
   "outputs": [
    {
     "name": "stdout",
     "output_type": "stream",
     "text": [
      "The 200 minutes when converted into hours is 3 hours and 20 minutes.\n"
     ]
    }
   ],
   "source": [
    "# This will convert 200 minutes to hours by diving by 60.\n",
    "minutes = 200\n",
    "hours = minutes // 60\n",
    "remaining_minutes = minutes % 60\n",
    "\n",
    "print(\"The 200 minutes when converted into hours is {} hours and {} minutes.\".format(hours, remaining_minutes))"
   ]
  },
  {
   "cell_type": "markdown",
   "id": "ff1de7ab-956c-4e10-8045-a3c728a68c51",
   "metadata": {},
   "source": [
    "## Author\n",
    "Shiva Shankar D S"
   ]
  },
  {
   "cell_type": "code",
   "execution_count": null,
   "id": "8158df8c-6abf-4fa8-8eb3-8fd36a399979",
   "metadata": {},
   "outputs": [],
   "source": []
  }
 ],
 "metadata": {
  "kernelspec": {
   "display_name": "Python 3 (ipykernel)",
   "language": "python",
   "name": "python3"
  },
  "language_info": {
   "codemirror_mode": {
    "name": "ipython",
    "version": 3
   },
   "file_extension": ".py",
   "mimetype": "text/x-python",
   "name": "python",
   "nbconvert_exporter": "python",
   "pygments_lexer": "ipython3",
   "version": "3.12.7"
  }
 },
 "nbformat": 4,
 "nbformat_minor": 5
}
